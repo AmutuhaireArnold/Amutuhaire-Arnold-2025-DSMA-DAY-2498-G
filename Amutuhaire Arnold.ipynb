{
 "cells": [
  {
   "cell_type": "code",
   "execution_count": 1,
   "id": "4ba83e0b-ba02-4fa3-8009-525f625e1dbf",
   "metadata": {},
   "outputs": [
    {
     "name": "stdout",
     "output_type": "stream",
     "text": [
      "Oops! My hair is dark no more\n"
     ]
    }
   ],
   "source": [
    "age = 64\n",
    "\n",
    "if age < 20:\n",
    "    result = 'You are pretty young'\n",
    "elif 20 <= age < 40:\n",
    "    result = 'The journey has just begun'\n",
    "elif 40 <= age < 60:\n",
    "    result = 'Huh! Life is pretty good here'\n",
    "elif 60 <= age < 80:\n",
    "    result = 'Oops! My hair is dark no more'\n",
    "else:\n",
    "    result = 'My eyes have seen it all'\n",
    "\n",
    "print(result)"
   ]
  },
  {
   "cell_type": "code",
   "execution_count": null,
   "id": "6fd53673-167d-41ea-86a4-0689360ca977",
   "metadata": {},
   "outputs": [],
   "source": []
  }
 ],
 "metadata": {
  "kernelspec": {
   "display_name": "Python [conda env:base] *",
   "language": "python",
   "name": "conda-base-py"
  },
  "language_info": {
   "codemirror_mode": {
    "name": "ipython",
    "version": 3
   },
   "file_extension": ".py",
   "mimetype": "text/x-python",
   "name": "python",
   "nbconvert_exporter": "python",
   "pygments_lexer": "ipython3",
   "version": "3.13.5"
  }
 },
 "nbformat": 4,
 "nbformat_minor": 5
}
